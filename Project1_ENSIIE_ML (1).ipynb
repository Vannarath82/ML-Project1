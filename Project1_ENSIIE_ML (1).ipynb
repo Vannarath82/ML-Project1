{
  "nbformat": 4,
  "nbformat_minor": 0,
  "metadata": {
    "kernelspec": {
      "display_name": "Python 3",
      "language": "python",
      "name": "python3"
    },
    "language_info": {
      "codemirror_mode": {
        "name": "ipython",
        "version": 3
      },
      "file_extension": ".py",
      "mimetype": "text/x-python",
      "name": "python",
      "nbconvert_exporter": "python",
      "pygments_lexer": "ipython3",
      "version": "3.8.1"
    },
    "colab": {
      "name": "Project1_ENSIIE_ML.ipynb",
      "provenance": []
    }
  },
  "cells": [
    {
      "cell_type": "code",
      "metadata": {
        "id": "m6IJ8K-3CLGK"
      },
      "source": [
        "import matplotlib.pyplot as plt\n",
        "import numpy as np \n",
        "import pandas as pd\n",
        "from sklearn import datasets\n",
        "\n",
        "from sklearn.ensemble import RandomForestClassifier\n",
        "from sklearn.tree import DecisionTreeClassifier\n",
        "\n",
        "from sklearn.model_selection import train_test_split , KFold\n",
        "\n",
        "from sklearn.metrics import accuracy_score\n",
        "\n",
        "digits = datasets.load_digits()\n",
        "X = digits.data\n",
        "y = digits.target"
      ],
      "execution_count": null,
      "outputs": []
    },
    {
      "cell_type": "code",
      "metadata": {
        "id": "XIY9hhwlCLGP"
      },
      "source": [
        "def extract_digits(a,b):\n",
        "    idxs_a = np.where(y==a)[0]\n",
        "    idxs_b = np.where(y==b)[0]\n",
        "    idxs = np.concatenate([idxs_a,idxs_b])\n",
        "    np.random.shuffle(idxs)\n",
        "    yt = np.where(y[idxs]==a,1,0)\n",
        "    Xt = X[idxs,:]\n",
        "    return Xt,yt"
      ],
      "execution_count": null,
      "outputs": []
    },
    {
      "cell_type": "code",
      "metadata": {
        "id": "-FL8RiGhCLGT",
        "outputId": "34d9f28e-6b5b-40e5-a8e8-60791144e9e7"
      },
      "source": [
        "a,b = 0,6\n",
        "X , y = extract_digits(a,b)\n",
        "X_train, X_test, y_train, y_test = train_test_split(X, y, test_size=0.3, random_state=0)\n",
        "print('X.shape',X.shape)\n",
        "print('y.shape',y.shape)"
      ],
      "execution_count": null,
      "outputs": [
        {
          "output_type": "stream",
          "text": [
            "X.shape (359, 64)\n",
            "y.shape (359,)\n"
          ],
          "name": "stdout"
        }
      ]
    },
    {
      "cell_type": "code",
      "metadata": {
        "id": "liEjFDaLCLGX",
        "outputId": "56b21eb7-597c-405d-e327-3773edca6b79"
      },
      "source": [
        "%%time\n",
        "\n",
        "cv = 5\n",
        "rf_clf = RandomForestClassifier()\n",
        "\n",
        "kf  = KFold(n_splits=cv)\n",
        "acc_rf = []\n",
        "for train_index, val_index in kf.split(X_train):\n",
        "    X_train, X_val = X[train_index], X[val_index]\n",
        "    y_train, y_val = y[train_index], y[val_index]\n",
        "        \n",
        "    rf_tree.fit(X_train,y_train)\n",
        "    y_pred = rf_tree.predict(X_val)\n",
        "    acc_rf.append(accuracy_score(y_pred,y_val))"
      ],
      "execution_count": null,
      "outputs": [
        {
          "output_type": "stream",
          "text": [
            "CPU times: user 612 ms, sys: 0 ns, total: 612 ms\n",
            "Wall time: 610 ms\n"
          ],
          "name": "stdout"
        }
      ]
    },
    {
      "cell_type": "code",
      "metadata": {
        "id": "ACTX28NgCLGb",
        "outputId": "1f1f5c1e-6411-45af-cde9-814a7b4b96ed"
      },
      "source": [
        "%%time\n",
        "\n",
        "cv = 5\n",
        "rf_tree = DecisionTreeClassifier()\n",
        "\n",
        "kf  = KFold(n_splits=cv)\n",
        "acc_rf = []\n",
        "for train_index, val_index in kf.split(X_train):\n",
        "    X_train, X_val = X[train_index], X[val_index]\n",
        "    y_train, y_val = y[train_index], y[val_index]\n",
        "        \n",
        "    rf_tree.fit(X_train,y_train)\n",
        "    y_pred = rf_tree.predict(X_val)\n",
        "    acc_rf.append(accuracy_score(y_pred,y_val))"
      ],
      "execution_count": null,
      "outputs": [
        {
          "output_type": "execute_result",
          "data": {
            "text/plain": [
              "[1.0, 1.0, 1.0, 1.0, 1.0]"
            ]
          },
          "metadata": {
            "tags": []
          },
          "execution_count": 11
        }
      ]
    },
    {
      "cell_type": "code",
      "metadata": {
        "id": "ef46JvcyCLGf"
      },
      "source": [
        ""
      ],
      "execution_count": null,
      "outputs": []
    }
  ]
}